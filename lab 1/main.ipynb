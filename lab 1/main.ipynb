{
  "nbformat": 4,
  "nbformat_minor": 0,
  "metadata": {
    "colab": {
      "name": "main.ipynb",
      "provenance": [],
      "collapsed_sections": []
    },
    "kernelspec": {
      "name": "python3",
      "display_name": "Python 3"
    },
    "language_info": {
      "name": "python"
    }
  },
  "cells": [
    {
      "cell_type": "code",
      "source": [
        "import math\n",
        "import numpy as np"
      ],
      "metadata": {
        "id": "T9Uh2ZLR-7rg"
      },
      "execution_count": 59,
      "outputs": []
    },
    {
      "cell_type": "code",
      "source": [
        "def grad_descent(derivative_func, step_func, start_point, iterations, eps):\n",
        "    current_point = start_point\n",
        "    for it in range(iterations):\n",
        "        cur_der = derivative_func(current_point)\n",
        "        step = step_func(it, cur_der, current_point)\n",
        "        next_point = current_point - step * cur_der\n",
        "\n",
        "        if np.linalg.norm(current_point-next_point) < eps:  # if dist < eps\n",
        "            return current_point, it\n",
        "\n",
        "        current_point -= step * cur_der\n",
        "\n",
        "    return current_point, iterations"
      ],
      "metadata": {
        "id": "XNj6hh8VE1u7"
      },
      "execution_count": 60,
      "outputs": []
    },
    {
      "cell_type": "code",
      "source": [
        "def const_learning_rate(value):\n",
        "    return lambda i, _0, _1: value\n",
        "\n",
        "func = lambda xs: xs[0] ** 2  # x^2\n",
        "derivative = lambda xs: np.array([2 * xs[0]])  # 2x\n",
        "\n",
        "lr_v = 0.1\n",
        "iterations = 100\n",
        "\n",
        "start_point = np.array([1.05])\n",
        "\n",
        "x = grad_descent(derivative, const_learning_rate(lr_v), start_point, iterations, 1e-5)\n",
        "\n",
        "print(x)\n",
        "func(x[0])"
      ],
      "metadata": {
        "colab": {
          "base_uri": "https://localhost:8080/"
        },
        "id": "D-e3OSYd-3lZ",
        "outputId": "494c85d0-1ad7-465e-9f99-aab297bd1709"
      },
      "execution_count": 61,
      "outputs": [
        {
          "output_type": "stream",
          "name": "stdout",
          "text": [
            "(array([4.57339501e-05]), 45)\n"
          ]
        },
        {
          "output_type": "execute_result",
          "data": {
            "text/plain": [
              "2.0915941930457676e-09"
            ]
          },
          "metadata": {},
          "execution_count": 61
        }
      ]
    },
    {
      "cell_type": "code",
      "execution_count": 64,
      "metadata": {
        "colab": {
          "base_uri": "https://localhost:8080/"
        },
        "id": "GlrmA1O36uDF",
        "outputId": "2b807f70-7f26-40cc-f350-6627775c591f"
      },
      "outputs": [
        {
          "output_type": "stream",
          "name": "stdout",
          "text": [
            "(array([-5.12718188,  6.309035  ]), 14)\n"
          ]
        },
        {
          "output_type": "execute_result",
          "data": {
            "text/plain": [
              "6.238475386962884"
            ]
          },
          "metadata": {},
          "execution_count": 64
        }
      ],
      "source": [
        "def exp_learning_rate():\n",
        "    return lambda i, _0, _1: math.exp(-i)\n",
        "\n",
        "\n",
        "# def stair_learning_rate(value):\n",
        "#     return lambda i, _0, _1: 1 / (1 + i // value)\n",
        "\n",
        "\n",
        "func = lambda xs: ((xs[0] + 3) ** 2) + ((xs[1] - 5) ** 2)  # (x+3)^2+(y-5)^2\n",
        "derivative = lambda xs: np.array([2 * (xs[0] + 3), 2 * (xs[1] - 5)])  # [2(x+3), 2(y-5)]\n",
        "\n",
        "iterations = 50\n",
        "\n",
        "start_point = np.array([10.0, -3.0])\n",
        "\n",
        "x = grad_descent(derivative, exp_learning_rate(), start_point, iterations, 1e-5)\n",
        "\n",
        "print(x)\n",
        "func(x[0])"
      ]
    },
    {
      "cell_type": "code",
      "source": [
        "def golden_section_search(func, l, r, eps):\n",
        "    phi = 1.618\n",
        "    current_l = l\n",
        "    current_r = r\n",
        "    while current_r - current_l > eps:\n",
        "        diff = current_r - current_l\n",
        "        candidate_l = current_r - diff / phi\n",
        "        candidate_r = current_l + diff / phi\n",
        "        if func(candidate_l) > func(candidate_r):\n",
        "            current_l = candidate_l\n",
        "        else:\n",
        "            current_r = candidate_r\n",
        "    return (current_l + current_r) / 2\n",
        "\n",
        "\n",
        "func = lambda x: (x + 5) ** 4  # (x+5)^4\n",
        "\n",
        "l = -100\n",
        "r = 100\n",
        "eps = 0.2\n",
        "\n",
        "x = golden_section_search(func, l, r, eps)\n",
        "\n",
        "print(x)\n",
        "func(x)"
      ],
      "metadata": {
        "colab": {
          "base_uri": "https://localhost:8080/"
        },
        "id": "sj9MSNyJAdag",
        "outputId": "876cd734-b383-41c2-8733-b8ebaa7fbf65"
      },
      "execution_count": 65,
      "outputs": [
        {
          "output_type": "stream",
          "name": "stdout",
          "text": [
            "-5.023931843185047\n"
          ]
        },
        {
          "output_type": "execute_result",
          "data": {
            "text/plain": [
              "3.2802322472168953e-07"
            ]
          },
          "metadata": {},
          "execution_count": 65
        }
      ]
    },
    {
      "cell_type": "code",
      "source": [
        "def create_gss_step_func(func):\n",
        "    def step_func(it, cur_der, cur_point):\n",
        "        def point_value(x):\n",
        "            return func(cur_point - x * cur_der)\n",
        "        alpha = 1.0\n",
        "        l_v = point_value(0)\n",
        "        prev_v = point_value(alpha)\n",
        "        if l_v > prev_v:\n",
        "            for i in range(10):\n",
        "                alpha *= 2\n",
        "                cur_v = point_value(alpha)\n",
        "                if cur_v > prev_v:\n",
        "                    break\n",
        "                prev_v = cur_v\n",
        "        return golden_section_search(point_value, 0.0, alpha, 0.1)\n",
        "    return step_func\n",
        "\n",
        "func = lambda xs: (xs[0] - 1) ** 2 + (xs[0] + xs[1]) ** 2 + 2  # (x-1)^2+(x+y)^2+2\n",
        "derivative = lambda xs: np.array([2 * (xs[0] - 1) + 2 * (xs[0] + xs[1]), 2 * (xs[0] + xs[1])])  # [2*(x-1)+2*(x+y), 2*(x+y)]\n",
        "\n",
        "iterations = 50\n",
        "\n",
        "start_point = np.array([10.0, -3.0])\n",
        "\n",
        "x = grad_descent(derivative, create_gss_step_func(func), start_point, iterations, 1e-5)\n",
        "\n",
        "print(x)\n",
        "func(x[0])"
      ],
      "metadata": {
        "colab": {
          "base_uri": "https://localhost:8080/"
        },
        "id": "AP3H2ZHnBHPK",
        "outputId": "d29b7ac0-8a20-4319-b4d9-4184a473347e"
      },
      "execution_count": 68,
      "outputs": [
        {
          "output_type": "stream",
          "name": "stdout",
          "text": [
            "(array([ 0.99998406, -0.99998413]), 21)\n"
          ]
        },
        {
          "output_type": "execute_result",
          "data": {
            "text/plain": [
              "2.000000000254193"
            ]
          },
          "metadata": {},
          "execution_count": 68
        }
      ]
    }
  ]
}