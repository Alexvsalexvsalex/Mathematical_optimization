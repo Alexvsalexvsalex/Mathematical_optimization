{
  "nbformat": 4,
  "nbformat_minor": 0,
  "metadata": {
    "colab": {
      "name": "main.ipynb",
      "provenance": [],
      "collapsed_sections": []
    },
    "kernelspec": {
      "name": "python3",
      "display_name": "Python 3"
    },
    "language_info": {
      "name": "python"
    }
  },
  "cells": [
    {
      "cell_type": "code",
      "source": [
        "import math\n",
        "import numpy as np"
      ],
      "metadata": {
        "id": "T9Uh2ZLR-7rg"
      },
      "execution_count": 24,
      "outputs": []
    },
    {
      "cell_type": "code",
      "source": [
        "def const_learning_rate(value):\n",
        "    return lambda i, _0, _1: value\n",
        "\n",
        "def grad_descent(derivative_func, step_func, start_point, iterations):\n",
        "    current_point = start_point\n",
        "    for it in range(iterations):\n",
        "        cur_der = derivative_func(current_point)\n",
        "        step = step_func(it, cur_der, current_point)\n",
        "        current_point -= step * cur_der\n",
        "    return current_point\n",
        "\n",
        "func = lambda xs: xs[0] ** 2  # x^2\n",
        "derivative = lambda xs: np.array([2 * xs[0]])  # 2x\n",
        "\n",
        "lr_v = 0.1\n",
        "iterations = 100\n",
        "\n",
        "start_point = np.array([1.05])\n",
        "\n",
        "x = grad_descent(derivative, const_learning_rate(lr_v), start_point, iterations)\n",
        "\n",
        "print(x)\n",
        "func(x)"
      ],
      "metadata": {
        "colab": {
          "base_uri": "https://localhost:8080/"
        },
        "id": "D-e3OSYd-3lZ",
        "outputId": "89daccf5-88df-4d4b-b3a1-db3cb6e134d9"
      },
      "execution_count": 33,
      "outputs": [
        {
          "output_type": "stream",
          "name": "stdout",
          "text": [
            "[2.13888778e-10]\n"
          ]
        },
        {
          "output_type": "execute_result",
          "data": {
            "text/plain": [
              "4.5748409146912964e-20"
            ]
          },
          "metadata": {},
          "execution_count": 33
        }
      ]
    },
    {
      "cell_type": "code",
      "execution_count": 34,
      "metadata": {
        "colab": {
          "base_uri": "https://localhost:8080/"
        },
        "id": "GlrmA1O36uDF",
        "outputId": "24c7fa6b-e9a6-4ef7-d488-e26caa7375e6"
      },
      "outputs": [
        {
          "output_type": "stream",
          "name": "stdout",
          "text": [
            "[-5.12717628  6.30903156]\n"
          ]
        },
        {
          "output_type": "execute_result",
          "data": {
            "text/plain": [
              "6.23844256119331"
            ]
          },
          "metadata": {},
          "execution_count": 34
        }
      ],
      "source": [
        "def exp_learning_rate():\n",
        "    return lambda i, _0, _1: math.exp(-i)\n",
        "\n",
        "\n",
        "# def stair_learning_rate(value):\n",
        "#     return lambda i, _0, _1: 1 / (1 + i // value)\n",
        "\n",
        "\n",
        "func = lambda xs: ((xs[0] + 3) ** 2) + ((xs[1] - 5) ** 2)  # (x+3)^2+(y-5)^2\n",
        "derivative = lambda xs: np.array([2 * (xs[0] + 3), 2 * (xs[1] - 5)])  # [2(x+3), 2(y-5)]\n",
        "\n",
        "iterations = 50\n",
        "\n",
        "start_point = np.array([10.0, -3.0])\n",
        "\n",
        "x = grad_descent(derivative, exp_learning_rate(), start_point, iterations)\n",
        "\n",
        "print(x)\n",
        "func(x)"
      ]
    },
    {
      "cell_type": "code",
      "source": [
        "def golden_section_search(func, l, r, eps):\n",
        "    phi = 1.618\n",
        "    current_l = l\n",
        "    current_r = r\n",
        "    while current_r - current_l > eps:\n",
        "        diff = current_r - current_l\n",
        "        candidate_l = current_r - diff / phi\n",
        "        candidate_r = current_l + diff / phi\n",
        "        if func(candidate_l) > func(candidate_r):\n",
        "            current_l = candidate_l\n",
        "        else:\n",
        "            current_r = candidate_r\n",
        "    return (current_l + current_r) / 2\n",
        "\n",
        "\n",
        "func = lambda x: (x + 5) ** 4  # (x+5)^4\n",
        "\n",
        "l = -100\n",
        "r = 100\n",
        "eps = 0.2\n",
        "\n",
        "x = golden_section_search(func, l, r, eps)\n",
        "\n",
        "print(x)\n",
        "func(x)"
      ],
      "metadata": {
        "colab": {
          "base_uri": "https://localhost:8080/"
        },
        "id": "sj9MSNyJAdag",
        "outputId": "a5185d85-7b43-4e21-b138-051beaa1891a"
      },
      "execution_count": 35,
      "outputs": [
        {
          "output_type": "stream",
          "name": "stdout",
          "text": [
            "-5.023931843185047\n"
          ]
        },
        {
          "output_type": "execute_result",
          "data": {
            "text/plain": [
              "3.2802322472168953e-07"
            ]
          },
          "metadata": {},
          "execution_count": 35
        }
      ]
    },
    {
      "cell_type": "code",
      "source": [
        "def create_gss_step_func(func):\n",
        "    def step_func(it, cur_der, cur_point):\n",
        "        def point_value(x):\n",
        "            return func(cur_point - x * cur_der)\n",
        "        alpha = 1.0\n",
        "        l_v = point_value(0)\n",
        "        prev_v = point_value(alpha)\n",
        "        if l_v > prev_v:\n",
        "            for i in range(10):\n",
        "                alpha *= 2\n",
        "                cur_v = point_value(alpha)\n",
        "                if cur_v > prev_v:\n",
        "                    break\n",
        "                prev_v = cur_v\n",
        "        return golden_section_search(point_value, 0.0, alpha, 0.1)\n",
        "    return step_func\n",
        "\n",
        "func = lambda xs: (xs[0] - 1) ** 2 + (xs[0] + xs[1]) ** 2 + 2  # (x-1)^2+(x+y)^2+2\n",
        "derivative = lambda xs: np.array([2 * (xs[0] - 1) + 2 * (xs[0] + xs[1]), 2 * (xs[0] + xs[1])])  # [2*(x-1)+2*(x+y), 2*(x+y)]\n",
        "\n",
        "iterations = 50\n",
        "\n",
        "start_point = np.array([10.0, -3.0])\n",
        "\n",
        "x = grad_descent(derivative, create_gss_step_func(func), start_point, iterations)\n",
        "\n",
        "print(x)\n",
        "func(x)"
      ],
      "metadata": {
        "colab": {
          "base_uri": "https://localhost:8080/"
        },
        "id": "AP3H2ZHnBHPK",
        "outputId": "25af4a2c-3c19-47c6-f010-8444ab9edd9d"
      },
      "execution_count": 36,
      "outputs": [
        {
          "output_type": "stream",
          "name": "stdout",
          "text": [
            "[ 0.99999999 -0.99999999]\n"
          ]
        },
        {
          "output_type": "execute_result",
          "data": {
            "text/plain": [
              "2.0"
            ]
          },
          "metadata": {},
          "execution_count": 36
        }
      ]
    }
  ]
}