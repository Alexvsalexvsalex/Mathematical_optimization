{
  "nbformat": 4,
  "nbformat_minor": 0,
  "metadata": {
    "colab": {
      "name": "Untitled4.ipynb",
      "provenance": [],
      "collapsed_sections": [],
      "authorship_tag": "ABX9TyPfgb3+fUB/1tG6NkRTxrnk"
    },
    "kernelspec": {
      "name": "python3",
      "display_name": "Python 3"
    },
    "language_info": {
      "name": "python"
    }
  },
  "cells": [
    {
      "cell_type": "code",
      "source": [
        "import numpy as np\n",
        "import random"
      ],
      "metadata": {
        "id": "XJxQWboIiTh4"
      },
      "execution_count": 64,
      "outputs": []
    },
    {
      "cell_type": "code",
      "execution_count": 65,
      "metadata": {
        "id": "SkXWx5y1gwPk"
      },
      "outputs": [],
      "source": [
        "def gradient_descent(gradient_func, start_point, iterations, eps):\n",
        "    '''\n",
        "    Метод градиентного спуска\n",
        "    :param gradient_func: функция градиента\n",
        "    :param step_func: функция изменения шага\n",
        "    :param start_point: начальное приближение\n",
        "    :param eps: точность расчета\n",
        "    '''\n",
        "    current_point = start_point\n",
        "    current_gradient = np.array([0.0] * len(start_point))\n",
        "    for it in range(iterations):\n",
        "        next_gradient = gradient_func(current_point, current_gradient)\n",
        "        next_point = current_point + next_gradient\n",
        "        distance = np.linalg.norm(current_point - next_point)\n",
        "\n",
        "        if distance < eps:\n",
        "            return current_point, it\n",
        "\n",
        "        current_point = next_point\n",
        "        current_gradient = next_gradient\n",
        "\n",
        "    return current_point, iterations"
      ]
    },
    {
      "cell_type": "code",
      "source": [
        "class MeanSquaredError:\n",
        "    def function(self, regression, points, state):\n",
        "        sum_square_error = 0.0\n",
        "        for p in points:\n",
        "            sum_square_error += (p[1] - regression.function(state, p[0])) ** 2\n",
        "        return sum_square_error / len(points)\n",
        "\n",
        "    def gradient(self, regression, points, state):\n",
        "        sum_square_error = np.array([0.0] * len(state + 1))\n",
        "        for p in points:\n",
        "            sum_square_error -= 2 * (p[1] - regression.function(state, p[0])) * regression.gradient(state, p[0])\n",
        "        return sum_square_error / len(points)"
      ],
      "metadata": {
        "id": "fIKem6hRtRuM"
      },
      "execution_count": 66,
      "outputs": []
    },
    {
      "cell_type": "code",
      "source": [
        "def standart_gradient(regression, points, n, error_func, step):\n",
        "    def next_gradient(current_point, current_gradient):\n",
        "        return - step * error_func.gradient(\n",
        "            regression, random.sample(points, n), current_point)\n",
        "    return next_gradient\n",
        "\n",
        "def momentum_gradient(regression, points, n, error_func, mu, step):\n",
        "    def next_gradient(current_point, current_gradient):\n",
        "        return mu * current_gradient - step * error_func.gradient(\n",
        "            regression, random.sample(points, n), current_point)\n",
        "    return next_gradient\n",
        "\n",
        "def nesterov_gradient(regression, points, n, error_func, mu, step):\n",
        "    def next_gradient(current_point, current_gradient):\n",
        "        return mu * current_gradient - step * error_func.gradient(\n",
        "            regression, random.sample(points, n), current_point + mu * current_gradient)\n",
        "    return next_gradient"
      ],
      "metadata": {
        "id": "cTLRk8BYWBHy"
      },
      "execution_count": 70,
      "outputs": []
    },
    {
      "cell_type": "code",
      "source": [
        "class LinearRegression:\n",
        "    def function(self, state, point):\n",
        "        res = state[0]\n",
        "        for i in range(len(point)):\n",
        "            res += state[i + 1] * point[i]\n",
        "        return res\n",
        "\n",
        "    def gradient(self, state, point):\n",
        "        return np.concatenate(([1.0], point))"
      ],
      "metadata": {
        "id": "bKoML2V9aNBE"
      },
      "execution_count": 68,
      "outputs": []
    },
    {
      "cell_type": "code",
      "source": [
        "points = [\n",
        "          ([0.0], 0.8),\n",
        "          ([1.0], 1.1),\n",
        "          ([2.6], 0.2),\n",
        "          ([-1.3], 5.0)\n",
        "]\n",
        "\n",
        "points_2 = [\n",
        "          ([0.0], -1.0),\n",
        "          ([3.0], 8.0),\n",
        "          ([-1.0], -4.0)\n",
        "]\n",
        "\n",
        "print(gradient_descent(\n",
        "    gradient_func=standart_gradient(\n",
        "        regression=LinearRegression(),\n",
        "        points=points_2,\n",
        "        n=1,\n",
        "        error_func=MeanSquaredError(),\n",
        "        step=0.1\n",
        "    ),\n",
        "    start_point=np.array([1.0, 2.0]), \n",
        "    iterations=200,\n",
        "    eps=1e-5\n",
        "))\n",
        "\n",
        "print(gradient_descent(\n",
        "    gradient_func=momentum_gradient(\n",
        "        regression=LinearRegression(),\n",
        "        points=points_2,\n",
        "        n=3,\n",
        "        error_func=MeanSquaredError(),\n",
        "        step=0.1,\n",
        "        mu=0.9\n",
        "    ),\n",
        "    start_point=np.array([1.0, 2.0]), \n",
        "    iterations=200,\n",
        "    eps=1e-5\n",
        "))\n",
        "\n",
        "print(gradient_descent(\n",
        "    gradient_func=nesterov_gradient(\n",
        "        regression=LinearRegression(),\n",
        "        points=points_2,\n",
        "        n=3,\n",
        "        error_func=MeanSquaredError(),\n",
        "        step=0.1,\n",
        "        mu=0.9\n",
        "    ),\n",
        "    start_point=np.array([1.0, 2.0]), \n",
        "    iterations=200,\n",
        "    eps=1e-5\n",
        "))"
      ],
      "metadata": {
        "colab": {
          "base_uri": "https://localhost:8080/"
        },
        "id": "qCMgEGEfs7Bl",
        "outputId": "ea394c5e-5314-49ca-ea57-83675d658517"
      },
      "execution_count": 72,
      "outputs": [
        {
          "output_type": "stream",
          "name": "stdout",
          "text": [
            "(array([-1.00003598,  3.00057618]), 181)\n",
            "(array([-1.00000255,  3.00000574]), 200)\n",
            "(array([-1.0010936 ,  3.00029042]), 52)\n"
          ]
        }
      ]
    }
  ]
}