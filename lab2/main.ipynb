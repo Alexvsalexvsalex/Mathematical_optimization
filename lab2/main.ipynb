{
  "nbformat": 4,
  "nbformat_minor": 0,
  "metadata": {
    "colab": {
      "name": "main.ipynb",
      "provenance": [],
      "collapsed_sections": []
    },
    "kernelspec": {
      "name": "python3",
      "display_name": "Python 3"
    },
    "language_info": {
      "name": "python"
    }
  },
  "cells": [
    {
      "cell_type": "code",
      "source": [
        "import numpy as np\n",
        "import random"
      ],
      "metadata": {
        "id": "XJxQWboIiTh4"
      },
      "execution_count": 1,
      "outputs": []
    },
    {
      "cell_type": "code",
      "execution_count": 2,
      "metadata": {
        "id": "SkXWx5y1gwPk"
      },
      "outputs": [],
      "source": [
        "def gradient_descent(gradient_func, start_point, iterations, eps):\n",
        "    '''\n",
        "    Метод градиентного спуска\n",
        "    :param gradient_func: функция градиента\n",
        "    :param step_func: функция изменения шага\n",
        "    :param start_point: начальное приближение\n",
        "    :param iterations: число итераций до остановки\n",
        "    :param eps: максимальное расстояние между точками для остановки\n",
        "    '''\n",
        "    current_point = start_point\n",
        "    current_gradient = np.array([0.0] * len(start_point))\n",
        "    for it in range(iterations):\n",
        "        next_gradient = gradient_func(current_point, current_gradient)\n",
        "        next_point = current_point + next_gradient\n",
        "\n",
        "        distance = np.linalg.norm(current_point - next_point)\n",
        "        if distance < eps:\n",
        "            return current_point, it\n",
        "\n",
        "        current_point = next_point\n",
        "        current_gradient = next_gradient\n",
        "\n",
        "    return current_point, iterations"
      ]
    },
    {
      "cell_type": "code",
      "source": [
        "class MeanSquaredError:\n",
        "    def function(self, regression, points, state):\n",
        "        sum_square_error = 0.0\n",
        "        for p in points:\n",
        "            sum_square_error += (p[1] - regression.function(state, p[0])) ** 2\n",
        "        return sum_square_error / len(points)\n",
        "\n",
        "    def gradient(self, regression, points, state):\n",
        "        sum_square_error = np.array([0.0] * len(state + 1))\n",
        "        for p in points:\n",
        "            sum_square_error -= 2 * (p[1] - regression.function(state, p[0])) * regression.gradient(state, p[0])\n",
        "        return sum_square_error / len(points)"
      ],
      "metadata": {
        "id": "fIKem6hRtRuM"
      },
      "execution_count": 3,
      "outputs": []
    },
    {
      "cell_type": "code",
      "source": [
        "def standart_gradient(regression, points, n, error_func, step):\n",
        "    def next_gradient(current_point, current_gradient):\n",
        "        return - step * error_func.gradient(regression, random.sample(points, n), current_point)\n",
        "    return next_gradient\n",
        "\n",
        "def momentum_gradient(regression, points, n, error_func, mu, step):\n",
        "    def next_gradient(current_point, current_gradient):\n",
        "        return mu * current_gradient - step * error_func.gradient(regression, random.sample(points, n), current_point)\n",
        "    return next_gradient\n",
        "\n",
        "def nesterov_gradient(regression, points, n, error_func, mu, step):\n",
        "    def next_gradient(current_point, current_gradient):\n",
        "        return mu * current_gradient - step * error_func.gradient(regression, random.sample(points, n), current_point + mu * current_gradient)\n",
        "    return next_gradient"
      ],
      "metadata": {
        "id": "cTLRk8BYWBHy"
      },
      "execution_count": 4,
      "outputs": []
    },
    {
      "cell_type": "code",
      "source": [
        "class LinearRegression:\n",
        "    def function(self, state, point):\n",
        "        res = state[0]\n",
        "        for i in range(len(point)):\n",
        "            res += state[i + 1] * point[i]\n",
        "        return res\n",
        "\n",
        "    def gradient(self, state, point):\n",
        "        return np.concatenate(([1.0], point))"
      ],
      "metadata": {
        "id": "bKoML2V9aNBE"
      },
      "execution_count": 5,
      "outputs": []
    },
    {
      "cell_type": "code",
      "source": [
        "number_of_points = 10\n",
        "number_of_dimensions = 1\n",
        "points = []\n",
        "for i in range(number_of_points):\n",
        "    sum = 1\n",
        "    point = []\n",
        "    for j in range(number_of_dimensions):\n",
        "        x = random.uniform(-10, 10)\n",
        "        point.append(x)\n",
        "        sum += (2 + j) * x\n",
        "    points.append((point, sum + random.uniform(0, 0)))"
      ],
      "metadata": {
        "id": "7Q5sIiI8EUGi"
      },
      "execution_count": 6,
      "outputs": []
    },
    {
      "cell_type": "code",
      "source": [
        "print(gradient_descent(\n",
        "    gradient_func=standart_gradient(\n",
        "        regression=LinearRegression(),\n",
        "        points=points,\n",
        "        n=1,\n",
        "        error_func=MeanSquaredError(),\n",
        "        step=0.01\n",
        "    ),\n",
        "    start_point=np.array([0.0] * (len(points[0][0]) + 1)), \n",
        "    iterations=1000,\n",
        "    eps=1e-5\n",
        "))\n",
        "\n",
        "print(gradient_descent(\n",
        "    gradient_func=momentum_gradient(\n",
        "        regression=LinearRegression(),\n",
        "        points=points,\n",
        "        n=3,\n",
        "        error_func=MeanSquaredError(),\n",
        "        step=0.01,\n",
        "        mu=0.9\n",
        "    ),\n",
        "    start_point=np.array([0.0] * (len(points[0][0]) + 1)), \n",
        "    iterations=1000,\n",
        "    eps=1e-5\n",
        "))\n",
        "\n",
        "print(gradient_descent(\n",
        "    gradient_func=nesterov_gradient(\n",
        "        regression=LinearRegression(),\n",
        "        points=points,\n",
        "        n=3,\n",
        "        error_func=MeanSquaredError(),\n",
        "        step=0.01,\n",
        "        mu=0.9\n",
        "    ),\n",
        "    start_point=np.array([0.0] * (len(points[0][0]) + 1)), \n",
        "    iterations=1000,\n",
        "    eps=1e-5\n",
        "))"
      ],
      "metadata": {
        "colab": {
          "base_uri": "https://localhost:8080/"
        },
        "id": "qCMgEGEfs7Bl",
        "outputId": "ba0afcff-c07b-487c-f2bb-536c2d4cb865"
      },
      "execution_count": 7,
      "outputs": [
        {
          "output_type": "stream",
          "name": "stdout",
          "text": [
            "(array([0.99923235, 2.0001191 ]), 368)\n",
            "(array([1.00010703, 2.00002142]), 373)\n",
            "(array([1.00012471, 1.99997297]), 168)\n"
          ]
        }
      ]
    }
  ]
}